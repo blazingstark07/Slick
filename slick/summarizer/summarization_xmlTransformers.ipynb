{
 "cells": [
  {
   "cell_type": "code",
   "execution_count": 2,
   "metadata": {},
   "outputs": [],
   "source": [
    "import os\n",
    "import docx2txt"
   ]
  },
  {
   "cell_type": "code",
   "execution_count": 3,
   "metadata": {},
   "outputs": [],
   "source": [
    "#reading files and generating summary\n",
    "path = os.walk(\".\")\n",
    "dir_files = []\n",
    "for root, dir, files in path:\n",
    "    dir_files =files"
   ]
  },
  {
   "cell_type": "code",
   "execution_count": 4,
   "metadata": {},
   "outputs": [
    {
     "name": "stderr",
     "output_type": "stream",
     "text": [
      "Some weights of XLMWithLMHeadModel were not initialized from the model checkpoint at xlm-mlm-en-2048 and are newly initialized: ['transformer.position_ids']\n",
      "You should probably TRAIN this model on a down-stream task to be able to use it for predictions and inference.\n"
     ]
    }
   ],
   "source": [
    "# Importing model and tokenizer\n",
    "from transformers import XLMWithLMHeadModel, XLMTokenizer\n",
    "\n",
    "# Instantiating the model and tokenizer\n",
    "tokenizer=XLMTokenizer.from_pretrained('xlm-mlm-en-2048')\n",
    "model=XLMWithLMHeadModel.from_pretrained('xlm-mlm-en-2048')"
   ]
  },
  {
   "cell_type": "code",
   "execution_count": 5,
   "metadata": {},
   "outputs": [],
   "source": [
    "import pickle\n",
    "filename = 'xml_transformers.sav'\n",
    "pickle.dump(model, open(filename, 'wb'))"
   ]
  },
  {
   "cell_type": "code",
   "execution_count": 8,
   "metadata": {},
   "outputs": [
    {
     "name": "stderr",
     "output_type": "stream",
     "text": [
      "Input length of input_ids is 511, but ``max_length`` is set to 20. This can lead to unexpected behavior. You should consider increasing ``config.max_length`` or ``max_length``.\n",
      "Input length of input_ids is 511, but ``max_length`` is set to 20. This can lead to unexpected behavior. You should consider increasing ``config.max_length`` or ``max_length``.\n"
     ]
    },
    {
     "name": "stdout",
     "output_type": "stream",
     "text": [
      "[{'rouge-1': {'r': 0.20572916666666666, 'p': 0.8020304568527918, 'f': 0.32746113664697574}, 'rouge-2': {'r': 0.11663902708678828, 'p': 0.5780821917808219, 'f': 0.194112232716477}, 'rouge-l': {'r': 0.20572916666666666, 'p': 0.8020304568527918, 'f': 0.32746113664697574}}]\n"
     ]
    },
    {
     "name": "stderr",
     "output_type": "stream",
     "text": [
      "Input length of input_ids is 511, but ``max_length`` is set to 20. This can lead to unexpected behavior. You should consider increasing ``config.max_length`` or ``max_length``.\n"
     ]
    },
    {
     "name": "stdout",
     "output_type": "stream",
     "text": [
      "[{'rouge-1': {'r': 0.33513513513513515, 'p': 0.8340807174887892, 'f': 0.4781490961675843}, 'rouge-2': {'r': 0.23046092184368738, 'p': 0.6301369863013698, 'f': 0.33749082513197287}, 'rouge-l': {'r': 0.33513513513513515, 'p': 0.8340807174887892, 'f': 0.4781490961675843}}]\n"
     ]
    },
    {
     "name": "stderr",
     "output_type": "stream",
     "text": [
      "Input length of input_ids is 511, but ``max_length`` is set to 20. This can lead to unexpected behavior. You should consider increasing ``config.max_length`` or ``max_length``.\n"
     ]
    },
    {
     "name": "stdout",
     "output_type": "stream",
     "text": [
      "[{'rouge-1': {'r': 0.26704545454545453, 'p': 0.831858407079646, 'f': 0.4043010715896867}, 'rouge-2': {'r': 0.14802631578947367, 'p': 0.6064690026954178, 'f': 0.23796932524365325}, 'rouge-l': {'r': 0.26704545454545453, 'p': 0.831858407079646, 'f': 0.4043010715896867}}]\n"
     ]
    },
    {
     "name": "stderr",
     "output_type": "stream",
     "text": [
      "Input length of input_ids is 511, but ``max_length`` is set to 20. This can lead to unexpected behavior. You should consider increasing ``config.max_length`` or ``max_length``.\n"
     ]
    },
    {
     "name": "stdout",
     "output_type": "stream",
     "text": [
      "[{'rouge-1': {'r': 0.2712100139082058, 'p': 0.874439461883408, 'f': 0.41401273523972126}, 'rouge-2': {'r': 0.1880920162381597, 'p': 0.7335092348284961, 'f': 0.29940764349328064}, 'rouge-l': {'r': 0.2712100139082058, 'p': 0.874439461883408, 'f': 0.41401273523972126}}]\n"
     ]
    }
   ],
   "source": [
    "#generating summary\n",
    "from rouge import Rouge\n",
    "\n",
    "for i in dir_files:\n",
    "    if (i.split(\".\")[-1]==\"docx\"):\n",
    "        text = docx2txt.process(i)\n",
    "        # Encoding text to get input ids & pass them to model.generate()\n",
    "        inputs=tokenizer.batch_encode_plus([text],return_tensors='pt',max_length=511)\n",
    "        summary_ids=model.generate(inputs['input_ids'],early_stopping=True)\n",
    "        # Decode and print the summary\n",
    "        XML_summary=tokenizer.decode(summary_ids[0],skip_special_tokens=True)\n",
    "        # print(i)\n",
    "        # print(XML_summary)\n",
    "        r = Rouge()\n",
    "        print(r.get_scores(XML_summary, text))"
   ]
  },
  {
   "cell_type": "code",
   "execution_count": null,
   "metadata": {},
   "outputs": [],
   "source": []
  }
 ],
 "metadata": {
  "interpreter": {
   "hash": "fb918db4a56ab7c212c5f800ca080242b11572f341680387355c17bf800603b4"
  },
  "kernelspec": {
   "display_name": "Python 3.9.1 64-bit",
   "language": "python",
   "name": "python3"
  },
  "language_info": {
   "codemirror_mode": {
    "name": "ipython",
    "version": 3
   },
   "file_extension": ".py",
   "mimetype": "text/x-python",
   "name": "python",
   "nbconvert_exporter": "python",
   "pygments_lexer": "ipython3",
   "version": "3.9.1"
  },
  "orig_nbformat": 4
 },
 "nbformat": 4,
 "nbformat_minor": 2
}
