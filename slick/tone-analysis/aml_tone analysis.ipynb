{
 "cells": [
  {
   "cell_type": "code",
   "execution_count": 26,
   "metadata": {},
   "outputs": [
    {
     "name": "stderr",
     "output_type": "stream",
     "text": [
      "[nltk_data] Downloading package stopwords to\n",
      "[nltk_data]     C:\\Users\\lenovo\\AppData\\Roaming\\nltk_data...\n",
      "[nltk_data]   Package stopwords is already up-to-date!\n",
      "[nltk_data] Downloading package wordnet to\n",
      "[nltk_data]     C:\\Users\\lenovo\\AppData\\Roaming\\nltk_data...\n",
      "[nltk_data]   Package wordnet is already up-to-date!\n"
     ]
    },
    {
     "data": {
      "text/plain": [
       "True"
      ]
     },
     "execution_count": 26,
     "metadata": {},
     "output_type": "execute_result"
    }
   ],
   "source": [
    "import os\n",
    "from docx import Document\n",
    "import re\n",
    "import spacy\n",
    "import nltk\n",
    "import matplotlib.pyplot as plt\n",
    "from nltk.corpus import stopwords\n",
    "from transformers import pipeline\n",
    "from nltk.stem import WordNetLemmatizer\n",
    "nltk.download('stopwords')\n",
    "nltk.download('wordnet')"
   ]
  },
  {
   "cell_type": "code",
   "execution_count": 27,
   "metadata": {},
   "outputs": [],
   "source": [
    "from vaderSentiment.vaderSentiment import SentimentIntensityAnalyzer \n"
   ]
  },
  {
   "cell_type": "code",
   "execution_count": 28,
   "metadata": {},
   "outputs": [],
   "source": [
    "docs = []\n",
    "path = \"docs\"\n",
    "for dir in os.listdir(path):\n",
    "    document = Document(os.path.join(path, dir))\n",
    "    data = ''\n",
    "    for para in document.paragraphs:\n",
    "        data += \" \" + para.text\n",
    "    docs.append(data)"
   ]
  },
  {
   "cell_type": "code",
   "execution_count": 29,
   "metadata": {},
   "outputs": [],
   "source": [
    "nlp = spacy.load('en_core_web_sm', disable = ['parser', 'ner'])\n",
    "stop = stopwords.words('english')\n",
    "def textCleaner(doc):\n",
    "        doc = re.sub(\"[,.']\", \"\", doc)\n",
    "        doc = [token for token in doc.split(' ') if len(re.sub(\"[a-zA-Z]\", \"\", token)) <= 0]\n",
    "        doc = nlp(\" \".join(doc))\n",
    "        taglist = ['RB','RBR', 'RBS','JJR','JJ','JJS','NN','NNS','VB','VBG','VBP','VBN']\n",
    "        poslist = ['ADJ','ADV','NOUN','VERB']\n",
    "        doc = [token.lemma_.lower() for token in doc if token.tag_ in taglist and token.pos_ in poslist]\n",
    "        doc = [token for token in doc if not token in stop and len(token)>2]\n",
    "        return doc"
   ]
  },
  {
   "cell_type": "code",
   "execution_count": 30,
   "metadata": {},
   "outputs": [],
   "source": [
    "def tone_anly_sent_1(doc):\n",
    "  dic=dict()\n",
    "  sen=doc.split('.')\n",
    "  sentiment=pipeline('sentiment-analysis')\n",
    "  for sent in sen:\n",
    "    sentence=textCleaner(sent)\n",
    "    sentence=\" \".join(sentence)\n",
    "    result = sentiment(sentence)[0]\n",
    "    dic[result['label']]=dic.get(result['label'],0)+result['score']\n",
    "  print(dic)\n",
    "  plt.bar(dic.keys(),dic.values())"
   ]
  },
  {
   "cell_type": "code",
   "execution_count": 31,
   "metadata": {},
   "outputs": [
    {
     "name": "stderr",
     "output_type": "stream",
     "text": [
      "No model was supplied, defaulted to distilbert-base-uncased-finetuned-sst-2-english (https://huggingface.co/distilbert-base-uncased-finetuned-sst-2-english)\n"
     ]
    },
    {
     "name": "stdout",
     "output_type": "stream",
     "text": [
      "{'NEGATIVE': 43.33003878593445, 'POSITIVE': 46.66011172533035}\n"
     ]
    },
    {
     "data": {
      "image/png": "[encoded data removed]",
      "text/plain": [
       "<Figure size 432x288 with 1 Axes>"
      ]
     },
     "metadata": {
      "needs_background": "light"
     },
     "output_type": "display_data"
    }
   ],
   "source": [
    "tone_anly_sent_1(docs[6])"
   ]
  },
  {
   "cell_type": "code",
   "execution_count": 32,
   "metadata": {},
   "outputs": [],
   "source": [
    "def text_anly_doc2(doc):\n",
    "  text=\" \".join(textCleaner(docs[0]))\n",
    "  sid_obj = SentimentIntensityAnalyzer() \n",
    "  sentiment_dict = sid_obj.polarity_scores(text)     \n",
    "  print(sentiment_dict)\n",
    "  \n",
    "  res=max(zip(list(sentiment_dict.values())[:3],list(sentiment_dict.keys())[:3]))[1]\n",
    "  if(res=='neu'):\n",
    "    print('Neutral')\n",
    "  elif(res=='pos'):\n",
    "    print('Positive')\n",
    "  else:\n",
    "    print('Negative')\n",
    "\n",
    "  plt.bar(sentiment_dict.keys(),sentiment_dict.values())"
   ]
  },
  {
   "cell_type": "code",
   "execution_count": 33,
   "metadata": {},
   "outputs": [],
   "source": [
    "def tone_anly_para2(doc):\n",
    "  dic=dict()\n",
    "  paragraph=doc.split('\\n')\n",
    "  sid_obj = SentimentIntensityAnalyzer()\n",
    "  for para in paragraph:\n",
    "    para=textCleaner(para)\n",
    "    para=\" \".join(para)\n",
    "    sentiment_dict = sid_obj.polarity_scores(para)\n",
    "    # print(para)\n",
    "    dic['neg']=dic.get('neg',0)+sentiment_dict['neg']\n",
    "    dic['pos']=dic.get('pos',0)+sentiment_dict['pos']\n",
    "    dic['neu']=dic.get('neu',0)+sentiment_dict['neu']\n",
    "\n",
    "  res=max(zip(list(dic.values())[:3],list(dic.keys())[:3]))[1]    \n",
    "  if(res=='neu'):\n",
    "    print('Neutral')\n",
    "  elif(res=='pos'):\n",
    "    print('Positive')\n",
    "  else:\n",
    "    print('Negative')\n",
    "  print(dic)\n",
    "  plt.bar(dic.keys(),dic.values())"
   ]
  },
  {
   "cell_type": "code",
   "execution_count": 34,
   "metadata": {},
   "outputs": [
    {
     "name": "stdout",
     "output_type": "stream",
     "text": [
      "Neutral\n",
      "{'neg': 0.75, 'pos': 2.174, 'neu': 5.0760000000000005}\n"
     ]
    },
    {
     "data": {
      "image/png": "[encoded data removed]",
      "text/plain": [
       "<Figure size 432x288 with 1 Axes>"
      ]
     },
     "metadata": {
      "needs_background": "light"
     },
     "output_type": "display_data"
    }
   ],
   "source": [
    "tone_anly_para2(docs[0])"
   ]
  },
  {
   "cell_type": "code",
   "execution_count": 35,
   "metadata": {},
   "outputs": [],
   "source": [
    "def tone_anly_sent2(doc):\n",
    "  dic=dict()\n",
    "  sen=doc.split('.')\n",
    "  sid_obj = SentimentIntensityAnalyzer()\n",
    "  \n",
    "  for sent in sen:\n",
    "    sentence=textCleaner(sent)\n",
    "    sentence=\" \".join(sentence)\n",
    "    # print(sentence)\n",
    "    sentiment_dict = sid_obj.polarity_scores(sentence)\n",
    "    dic['neg']=dic.get('neg',0)+sentiment_dict['neg']\n",
    "    dic['pos']=dic.get('pos',0)+sentiment_dict['pos']\n",
    "    dic['neu']=dic.get('neu',0)+sentiment_dict['neu']\n",
    "\n",
    "  res=max(zip(list(dic.values())[:3],list(dic.keys())[:3]))[1]    \n",
    "  if(res=='neu'):\n",
    "    print('Neutral')\n",
    "  elif(res=='pos'):\n",
    "    print('Positive')\n",
    "  else:\n",
    "    print('Negative')\n",
    "\n",
    "  plt.bar(dic.keys(),dic.values())"
   ]
  },
  {
   "cell_type": "code",
   "execution_count": 36,
   "metadata": {},
   "outputs": [
    {
     "name": "stdout",
     "output_type": "stream",
     "text": [
      "Neutral\n"
     ]
    },
    {
     "data": {
      "image/png": "[encoded data removed]",
      "text/plain": [
       "<Figure size 432x288 with 1 Axes>"
      ]
     },
     "metadata": {
      "needs_background": "light"
     },
     "output_type": "display_data"
    }
   ],
   "source": [
    "tone_anly_sent2(docs[0])"
   ]
  },
  {
   "cell_type": "code",
   "execution_count": 37,
   "metadata": {},
   "outputs": [
    {
     "name": "stdout",
     "output_type": "stream",
     "text": [
      "2021-12-05 11:00:51,759 loading file C:\\Users\\lenovo\\.flair\\models\\sentiment-en-mix-distillbert_4.pt\n"
     ]
    }
   ],
   "source": [
    "import flair\n",
    "from flair.models import TextClassifier\n",
    "flair_sentiment = TextClassifier.load('en-sentiment')"
   ]
  },
  {
   "cell_type": "code",
   "execution_count": 38,
   "metadata": {},
   "outputs": [],
   "source": [
    "def tone_anly_doc3(doc):\n",
    "  text=\" \".join(textCleaner(docs[0]))\n",
    "  sentence=flair.data.Sentence(text)\n",
    "  flair_sentiment.predict(sentence)\n",
    "  total_sentiment = sentence.labels\n",
    "  res_dic=total_sentiment[0].to_dict()\n",
    "  print(res_dic)\n",
    "  for keys in res_dic:\n",
    "    if keys=='value':\n",
    "      res_dic[keys] = str(res_dic[keys])\n",
    "    else:\n",
    "      res_dic[keys] = int(res_dic[keys])"
   ]
  },
  {
   "cell_type": "code",
   "execution_count": 39,
   "metadata": {},
   "outputs": [
    {
     "name": "stdout",
     "output_type": "stream",
     "text": [
      "{'value': 'POSITIVE', 'confidence': 0.9145067930221558}\n"
     ]
    }
   ],
   "source": [
    "tone_anly_doc3(docs[0])"
   ]
  },
  {
   "cell_type": "code",
   "execution_count": 40,
   "metadata": {},
   "outputs": [],
   "source": [
    "def tone_anly_sent3(doc):\n",
    "  dic=dict() \n",
    "  sent=doc.split('.')\n",
    "  for sen in sent:\n",
    "    sentence=textCleaner(sen)\n",
    "    sentence=\" \".join(sentence)\n",
    "    if(sentence==\"\"):\n",
    "      pass\n",
    "    else:\n",
    "      sentence=flair.data.Sentence(sentence)\n",
    "      flair_sentiment.predict(sentence)\n",
    "      total_sentiment = sentence.labels\n",
    "      val=total_sentiment[0].to_dict()\n",
    "      dic[val['value']]=dic.get(val['value'],0)+float(val['confidence'])\n",
    "  print(dic)"
   ]
  },
  {
   "cell_type": "code",
   "execution_count": 41,
   "metadata": {},
   "outputs": [
    {
     "name": "stdout",
     "output_type": "stream",
     "text": [
      "{'POSITIVE': 79.00198620557785, 'NEGATIVE': 31.64176243543625}\n"
     ]
    }
   ],
   "source": [
    "tone_anly_sent3(docs[0])"
   ]
  },
  {
   "cell_type": "code",
   "execution_count": 42,
   "metadata": {},
   "outputs": [],
   "source": [
    "def tone_anly_para3(doc):\n",
    "  dic=dict() \n",
    "  sent=doc.split('\\n')\n",
    "  for sen in sent:\n",
    "    sentence=textCleaner(sen)\n",
    "    sentence=\" \".join(sentence)\n",
    "    if(sentence==\"\"):\n",
    "      pass\n",
    "    else:\n",
    "      sentence=flair.data.Sentence(sentence)\n",
    "      flair_sentiment.predict(sentence)\n",
    "      total_sentiment = sentence.labels\n",
    "      val=total_sentiment[0].to_dict()\n",
    "      dic[val['value']]=dic.get(val['value'],0)+float(val['confidence'])\n",
    "  print(dic)"
   ]
  },
  {
   "cell_type": "code",
   "execution_count": 43,
   "metadata": {},
   "outputs": [
    {
     "name": "stdout",
     "output_type": "stream",
     "text": [
      "{'POSITIVE': 7.0281084179878235}\n"
     ]
    }
   ],
   "source": [
    "tone_anly_para3(docs[0])"
   ]
  }
 ],
 "metadata": {
  "interpreter": {
   "hash": "69a7ec1f19fe8e6b4d60bff3a060a39e42b8b78906aa04442e53246e4bcaf9b9"
  },
  "kernelspec": {
   "display_name": "Python 3.7.6 64-bit",
   "name": "python3"
  },
  "language_info": {
   "codemirror_mode": {
    "name": "ipython",
    "version": 3
   },
   "file_extension": ".py",
   "mimetype": "text/x-python",
   "name": "python",
   "nbconvert_exporter": "python",
   "pygments_lexer": "ipython3",
   "version": "3.8.10"
  },
  "orig_nbformat": 4
 },
 "nbformat": 4,
 "nbformat_minor": 2
}
